{
  "nbformat": 4,
  "nbformat_minor": 0,
  "metadata": {
    "colab": {
      "name": "Detect.ipynb",
      "provenance": [],
      "collapsed_sections": []
    },
    "kernelspec": {
      "name": "python3",
      "display_name": "Python 3"
    },
    "language_info": {
      "name": "python"
    }
  },
  "cells": [
    {
      "cell_type": "code",
      "execution_count": null,
      "metadata": {
        "colab": {
          "base_uri": "https://localhost:8080/"
        },
        "id": "5OLdvW6y9T9e",
        "outputId": "c0be1b7a-3e07-4065-df57-563f558d008d"
      },
      "outputs": [
        {
          "output_type": "stream",
          "name": "stdout",
          "text": [
            "Setup complete. Using torch 1.11.0+cu113 CPU\n"
          ]
        }
      ],
      "source": [
        "!git clone https://github.com/ultralytics/yolov5  # clone repo for yolov5 pretrained-model\n",
        "!pip install -qr yolov5/requirements.txt  # install dependencies (ignore errors)\n",
        "%cd yolov5\n",
        "\n",
        "import torch\n",
        "from IPython.display import Image, clear_output  # to display images\n",
        "# from utils.google_utils import gdrive_download  # to download models/datasets\n",
        "\n",
        "clear_output()\n",
        "print('Setup complete. Using torch %s %s' % (torch.__version__, torch.cuda.get_device_properties(0) if torch.cuda.is_available() else 'CPU'))"
      ]
    },
    {
      "cell_type": "code",
      "source": [
        "!python yolov5/detect.py --weights path-to-best.pt --img 416 --conf 0.25 --source path-to-test-image/video"
      ],
      "metadata": {
        "colab": {
          "base_uri": "https://localhost:8080/"
        },
        "id": "zy2lnNMHACdk",
        "outputId": "7675ae79-3efa-4c4e-b49b-a544f20b71af"
      },
      "execution_count": null,
      "outputs": [
        {
          "output_type": "stream",
          "name": "stdout",
          "text": [
            "/content\n",
            "\u001b[34m\u001b[1mdetect: \u001b[0mweights=['fire-detection-from-images/pytorch/object-detection/yolov5/experiment1/best.pt'], source=test/images, data=yolov5/data/coco128.yaml, imgsz=[416, 416], conf_thres=0.25, iou_thres=0.45, max_det=1000, device=, view_img=False, save_txt=False, save_conf=False, save_crop=False, nosave=False, classes=None, agnostic_nms=False, augment=False, visualize=False, update=False, project=yolov5/runs/detect, name=exp, exist_ok=False, line_thickness=3, hide_labels=False, hide_conf=False, half=False, dnn=False\n",
            "YOLOv5 🚀 v6.1-177-gd059d1d torch 1.11.0+cu113 CPU\n",
            "\n",
            "Fusing layers... \n",
            "custom_YOLOv5s summary: 232 layers, 7246518 parameters, 0 gradients\n",
            "image 1/70 /content/test/images/image_100_jpg.rf.d01886705abe7fbfa9b9d592d9a1ebaf.jpg: 416x416 7 fires, Done. (0.345s)\n",
            "image 2/70 /content/test/images/image_12_jpg.rf.f68ea6efce544dd40569928fdda4566c.jpg: 416x416 Done. (0.228s)\n",
            "image 3/70 /content/test/images/image_131_jpg.rf.dfc1e52ac01f3a29f306224df9a43ee2.jpg: 416x416 9 fires, Done. (0.203s)\n",
            "image 4/70 /content/test/images/image_137_jpg.rf.2a97174c59ec7522bd6cfd1c1a95144c.jpg: 416x416 16 fires, Done. (0.205s)\n",
            "image 5/70 /content/test/images/image_145_jpg.rf.c7271ca9ce5d2b345cc9300ff4a91150.jpg: 416x416 12 fires, Done. (0.203s)\n",
            "image 6/70 /content/test/images/image_158_jpg.rf.cdfffc5a002ca2e15597b3fcd3392e7a.jpg: 416x416 6 fires, Done. (0.224s)\n",
            "image 7/70 /content/test/images/image_173_jpg.rf.0c1fc3c8be89123aa3e8233d4eba6942.jpg: 416x416 20 fires, Done. (0.199s)\n",
            "image 8/70 /content/test/images/image_181_jpg.rf.7236745907598cb5e427ba15754e8b46.jpg: 416x416 21 fires, Done. (0.203s)\n",
            "image 9/70 /content/test/images/image_246_jpg.rf.3c54fc077a5217ce6b65b8d32b5be745.jpg: 416x416 7 fires, Done. (0.194s)\n",
            "image 10/70 /content/test/images/image_271_jpg.rf.87ea160de1ce67ea232d527f993e9892.jpg: 416x416 20 fires, Done. (0.207s)\n",
            "image 11/70 /content/test/images/image_274_jpg.rf.1d9e67136b750a340d9d7cd3fbd97479.jpg: 416x416 3 fires, Done. (0.192s)\n",
            "image 12/70 /content/test/images/image_308_jpg.rf.02ce0c68fc2473c440c6ad42a288f041.jpg: 416x416 6 fires, Done. (0.198s)\n",
            "image 13/70 /content/test/images/image_318_jpg.rf.38fb62c298ec7b415b716aabbff50e67.jpg: 416x416 7 fires, Done. (0.192s)\n",
            "image 14/70 /content/test/images/image_319_jpg.rf.e19576a0e8ac9deb80947dcb3bce5c94.jpg: 416x416 1 fire, Done. (0.197s)\n",
            "image 15/70 /content/test/images/image_31_jpg.rf.61ee7bdd8cb129c6c8e383f0152f4669.jpg: 416x416 14 fires, Done. (0.200s)\n",
            "image 16/70 /content/test/images/image_347_jpg.rf.5698b7a817e1cbe943e227297c3c7b2c.jpg: 416x416 5 fires, Done. (0.201s)\n",
            "image 17/70 /content/test/images/image_359_jpg.rf.250d82f2ada6f11306b2927cfc759daa.jpg: 416x416 Done. (0.194s)\n",
            "image 18/70 /content/test/images/image_362_jpg.rf.7b91aec2ee3d4be6f714bc30f7740ad0.jpg: 416x416 11 fires, Done. (0.203s)\n",
            "image 19/70 /content/test/images/image_37_jpg.rf.3701b268ca60b982b4ddfeffcbcf8876.jpg: 416x416 14 fires, Done. (0.196s)\n",
            "image 20/70 /content/test/images/image_380_jpg.rf.5441ef41fb7718440a9e586426780e73.jpg: 416x416 6 fires, Done. (0.208s)\n",
            "image 21/70 /content/test/images/image_389_jpg.rf.ae084e6253eec420c32b2ded93bf1c8d.jpg: 416x416 2 fires, Done. (0.194s)\n",
            "image 22/70 /content/test/images/image_391_jpg.rf.c58843ae5b41fab9fc8ed04261dd5707.jpg: 416x416 13 fires, Done. (0.203s)\n",
            "image 23/70 /content/test/images/image_410_jpg.rf.dfb01ba9f7b2134fdc75167d3d353264.jpg: 416x416 9 fires, Done. (0.199s)\n",
            "image 24/70 /content/test/images/image_411_jpg.rf.9603e6aee254f4f79e422b3abbdedafa.jpg: 416x416 24 fires, Done. (0.209s)\n",
            "image 25/70 /content/test/images/image_429_jpg.rf.f69a0e2c6b8777175c6e6fbd54360a2d.jpg: 416x416 19 fires, Done. (0.213s)\n",
            "image 26/70 /content/test/images/image_449_jpg.rf.e9dc75bc2db91b5a47594520004b490e.jpg: 416x416 4 fires, Done. (0.195s)\n",
            "image 27/70 /content/test/images/image_473_jpg.rf.054f4f82ec3333b057730d0645f52f62.jpg: 416x416 16 fires, Done. (0.201s)\n",
            "image 28/70 /content/test/images/image_481_jpg.rf.adc07707bd97d8530686f2b9abcec347.jpg: 416x416 10 fires, Done. (0.193s)\n",
            "image 29/70 /content/test/images/image_483_jpg.rf.88ec5dff4d02c994dd63a5760f89cf54.jpg: 416x416 2 fires, Done. (0.203s)\n",
            "image 30/70 /content/test/images/image_512_jpg.rf.56be89c410eba12d13ce082ac7acfdf3.jpg: 416x416 12 fires, Done. (0.198s)\n",
            "image 31/70 /content/test/images/image_521_jpg.rf.0bbfc5c1df9ad95ffacdd112fa85b0e6.jpg: 416x416 Done. (0.201s)\n",
            "image 32/70 /content/test/images/image_523_jpg.rf.a7d726feabc912844240ccab84bbbe7a.jpg: 416x416 34 fires, Done. (0.194s)\n",
            "image 33/70 /content/test/images/image_528_jpg.rf.ab29ded4a90c8ca446d516aa258f476d.jpg: 416x416 4 fires, Done. (0.207s)\n",
            "image 34/70 /content/test/images/image_538_jpg.rf.5b00102f525638955a91705bdb03027a.jpg: 416x416 5 fires, Done. (0.205s)\n",
            "image 35/70 /content/test/images/image_540_jpg.rf.4b602b87281048e83aaa6cb5dc4b1c27.jpg: 416x416 16 fires, Done. (0.205s)\n",
            "image 36/70 /content/test/images/image_554_jpg.rf.9282f421fec5afe1ef220ccaf86e8ca3.jpg: 416x416 8 fires, Done. (0.200s)\n",
            "image 37/70 /content/test/images/image_555_jpg.rf.3ab85103ace583b8fc747b151f8c440c.jpg: 416x416 22 fires, Done. (0.203s)\n",
            "image 38/70 /content/test/images/image_558_jpg.rf.44b63c93d9669161054cb820f9226a97.jpg: 416x416 31 fires, Done. (0.207s)\n",
            "image 39/70 /content/test/images/image_574_jpg.rf.879918e2514a1176afd7f75fff7d4578.jpg: 416x416 23 fires, Done. (0.208s)\n",
            "image 40/70 /content/test/images/image_575_jpg.rf.9bdef76745f2a886757c2965163bbd75.jpg: 416x416 2 fires, Done. (0.204s)\n",
            "image 41/70 /content/test/images/image_578_jpg.rf.61f0b1ee48bbe69fb7ad3d80936f8944.jpg: 416x416 16 fires, Done. (0.199s)\n",
            "image 42/70 /content/test/images/image_583_jpg.rf.ddec6a401d7b49f04e3bf42a3f977912.jpg: 416x416 15 fires, Done. (0.201s)\n",
            "image 43/70 /content/test/images/image_590_jpg.rf.045b64acbf72fb88f2645e3f1c9dc716.jpg: 416x416 6 fires, Done. (0.206s)\n",
            "image 44/70 /content/test/images/image_5_jpg.rf.c1b5eb22b6dbde89ec24f330a6eeb0da.jpg: 416x416 2 fires, Done. (0.207s)\n",
            "image 45/70 /content/test/images/image_609_jpg.rf.ee38529d86437b46654bb4e37d236916.jpg: 416x416 9 fires, Done. (0.204s)\n",
            "image 46/70 /content/test/images/image_612_jpg.rf.426b5e97ca241cf79f475d5607eff563.jpg: 416x416 11 fires, Done. (0.198s)\n",
            "image 47/70 /content/test/images/image_627_jpg.rf.1a772ba3248169b60469a298e0cca39b.jpg: 416x416 6 fires, Done. (0.210s)\n",
            "image 48/70 /content/test/images/image_634_jpg.rf.662e1bf5525b29cf84e4ea4f7dd2071d.jpg: 416x416 19 fires, Done. (0.215s)\n",
            "image 49/70 /content/test/images/image_636_jpg.rf.e1ec28b59e8692fe2ffe7fd2e06194d2.jpg: 416x416 24 fires, Done. (0.234s)\n",
            "image 50/70 /content/test/images/image_642_jpg.rf.34da05f4cc2b413846648a77d69e6f6e.jpg: 416x416 14 fires, Done. (0.208s)\n",
            "image 51/70 /content/test/images/image_64_jpg.rf.4a6d3fc75d833cf26ceed64eb8356b48.jpg: 416x416 6 fires, Done. (0.204s)\n",
            "image 52/70 /content/test/images/image_663_jpg.rf.e36e31be4efbf3d4727fabc94d5edae8.jpg: 416x416 Done. (0.207s)\n",
            "image 53/70 /content/test/images/image_675_jpg.rf.ec87cb04239c869e8e37d32514851a83.jpg: 416x416 18 fires, Done. (0.213s)\n",
            "image 54/70 /content/test/images/image_684_jpg.rf.938ca6f39d9de389416166e5a04e48f9.jpg: 416x416 48 fires, Done. (0.200s)\n",
            "image 55/70 /content/test/images/image_685_jpg.rf.37e6432cfc57d92665589ef7b9b8717c.jpg: 416x416 17 fires, Done. (0.201s)\n",
            "image 56/70 /content/test/images/image_696_jpg.rf.cc25f929feb1fd93a12619f9e9c4eccb.jpg: 416x416 10 fires, Done. (0.208s)\n",
            "image 57/70 /content/test/images/image_703_jpg.rf.64a7199356e908d5458f46f554369937.jpg: 416x416 3 fires, Done. (0.206s)\n",
            "image 58/70 /content/test/images/image_706_jpg.rf.b0bc976ab947d107d3caa53cbbe6f4e6.jpg: 416x416 10 fires, Done. (0.202s)\n",
            "image 59/70 /content/test/images/image_712_jpg.rf.fbf70d2c3923285db6d0a6a1d6e6c578.jpg: 416x416 3 fires, Done. (0.198s)\n",
            "image 60/70 /content/test/images/image_73_jpg.rf.c4c085d033a6b97a0479980154208710.jpg: 416x416 9 fires, Done. (0.210s)\n",
            "image 61/70 /content/test/images/image_77_jpg.rf.1ef5e95c1cdea4ecde7c0d4f55e7b533.jpg: 416x416 12 fires, Done. (0.194s)\n",
            "image 62/70 /content/test/images/image_808_jpg.rf.9060326662a6b787c2ff54e6441eeb89.jpg: 416x416 Done. (0.214s)\n",
            "image 63/70 /content/test/images/image_811_jpg.rf.81062978aa784eed886c2dec06b901c7.jpg: 416x416 6 fires, Done. (0.201s)\n",
            "image 64/70 /content/test/images/image_812_jpg.rf.07b2a19da2dfc19983d3abdf3e4f2740.jpg: 416x416 15 fires, Done. (0.203s)\n",
            "image 65/70 /content/test/images/image_813_jpg.rf.c6d0cbc3acaa7c77c162c9d89789d2da.jpg: 416x416 22 fires, Done. (0.202s)\n",
            "image 66/70 /content/test/images/image_816_jpg.rf.148772a710634f61f63c8aa52068a230.jpg: 416x416 20 fires, Done. (0.201s)\n",
            "image 67/70 /content/test/images/image_818_jpg.rf.d515f66d14313089954b7bcdb86be609.jpg: 416x416 24 fires, Done. (0.201s)\n",
            "image 68/70 /content/test/images/image_88_jpg.rf.1f7ea638e83e024b5103161c4d1e8e0d.jpg: 416x416 Done. (0.204s)\n",
            "image 69/70 /content/test/images/image_96_jpg.rf.5c0d94015dcf8ee59fdb67ce855418fd.jpg: 416x416 Done. (0.202s)\n",
            "image 70/70 /content/test/images/image_98_jpg.rf.ead597b1967cb4afa5ecc248e6de1e65.jpg: 416x416 23 fires, Done. (0.203s)\n",
            "Speed: 1.1ms pre-process, 205.6ms inference, 0.8ms NMS per image at shape (1, 3, 416, 416)\n",
            "Results saved to \u001b[1myolov5/runs/detect/exp6\u001b[0m\n"
          ]
        }
      ]
    }
  ]
}